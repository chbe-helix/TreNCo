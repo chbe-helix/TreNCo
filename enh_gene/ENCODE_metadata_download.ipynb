{
 "cells": [
  {
   "cell_type": "markdown",
   "metadata": {},
   "source": [
    "# Initial exploration of the ENCODE Mouse ChIP-seq and RNA-seq datasets."
   ]
  },
  {
   "cell_type": "code",
   "execution_count": 1,
   "metadata": {
    "collapsed": true
   },
   "outputs": [],
   "source": [
    "import pandas as pd\n",
    "import glob\n",
    "import math\n",
    "import os\n",
    "import io\n",
    "import requests\n",
    "import urllib\n",
    "import seaborn as sb\n",
    "%matplotlib inline\n",
    "import matplotlib.pyplot as plt\n",
    "import subprocess"
   ]
  },
  {
   "cell_type": "markdown",
   "metadata": {},
   "source": [
    "## Download Metadata file and process. "
   ]
  },
  {
   "cell_type": "code",
   "execution_count": 2,
   "metadata": {
    "collapsed": true
   },
   "outputs": [],
   "source": [
    "# Proxy settings\n",
    "http_proxy  = \"http:proxy.swmed.edu:3128\"\n",
    "https_proxy  = \"http:proxy.swmed.edu:3128\"\n",
    "proxy_dict = {\n",
    "              \"http\"  : http_proxy,\n",
    "              \"https\" : https_proxy\n",
    "            }\n",
    "\n",
    "# Get all metadata for Mouse ChIP-seq and polyA mRNA-seq\n",
    "mouse_metadata_url = \"https://www.encodeproject.org/metadata/type=Experiment&status=released&assembly=mm10/metadata.tsv\"\n",
    "mouse_metadata_file = requests.get(mouse_metadata_url, proxies=proxy_dict).content\n",
    "\n",
    "mouse_metadata_df = pd.read_csv(io.StringIO(mouse_metadata_file.decode('utf-8')),sep='\\t', low_memory=False)"
   ]
  },
  {
   "cell_type": "markdown",
   "metadata": {},
   "source": [
    "### Define getting files based on assay, file type and output type"
   ]
  },
  {
   "cell_type": "code",
   "execution_count": 3,
   "metadata": {
    "collapsed": true
   },
   "outputs": [],
   "source": [
    "def get_tupes(df, assay_target, output_type, file_type):\n",
    "    meta_tups = []\n",
    "\n",
    "    for r in df.iterrows():\n",
    "        \n",
    "        # Define biosample varibles\n",
    "        biosample_type = r[1]['Biosample type']\n",
    "        biosample_treatment = r[1]['Biosample treatments']\n",
    "        biosample_term = '-'.join(r[1]['Biosample term name'].split(' '))\n",
    "        biosample_age = r[1]['Biosample Age'].split(' ')[0]\n",
    "        biosample_age_units = r[1]['Biosample Age'].split(' ')[-1]\n",
    "        biosample_stage = r[1]['Biosample life stage']\n",
    "        \n",
    "        # Define Experiment varibles\n",
    "        bio_rep = r[1]['Biological replicate(s)']\n",
    "        exp_acc = r[1]['Experiment accession']\n",
    "        file_acc = r[1]['File accession']\n",
    "        url = r[1]['File download URL']\n",
    "        output = r[1]['Output type']\n",
    "        status = r[1]['File Status']\n",
    "        file_format = r[1]['File format']\n",
    "        audit = r[1]['Audit ERROR']\n",
    "        assay = r[1]['Assay']\n",
    "        \n",
    "        # Check biosample type\n",
    "        if biosample_type not in ['tissue', 'primary cell', 'stem cell']:\n",
    "            continue\n",
    "        \n",
    "        # Set age\n",
    "        if biosample_age not in ['unknown']:\n",
    "            if biosample_age_units == 'week' and biosample_stage in ['postnatal', 'adult']:\n",
    "                age = 'P{}w'.format(r[1]['Biosample Age'].split(' ')[0])\n",
    "            elif biosample_age_units == 'day' and biosample_stage in ['postnatal']:\n",
    "                age = 'P{}d'.format(r[1]['Biosample Age'].split(' ')[0])\n",
    "            elif biosample_age_units == 'day' and biosample_stage in ['embryonic']:\n",
    "                age = 'e{}d'.format(r[1]['Biosample Age'].split(' ')[0])\n",
    "            elif biosample_age_units == 'week' and biosample_stage in ['embryonic']:\n",
    "                age = 'e{}d'.format(r[1]['Biosample Age'].split(' ')[0])\n",
    "        else:\n",
    "            age = biosample_age\n",
    "        \n",
    "        # Filter ages\n",
    "        if age in ['P10-12w', 'P24w']:\n",
    "            continue\n",
    "        \n",
    "        # Filter out low read depth\n",
    "        if audit in [\"extremely low read depth\"]:\n",
    "            continue\n",
    "        \n",
    "        # Filter for released files\n",
    "        if status != 'released':\n",
    "            continue\n",
    "            \n",
    "        # Define Experiment target\n",
    "        if assay_target == 'RNA-seq':\n",
    "            target = assay\n",
    "        elif assay == 'ChIP-seq':\n",
    "            target = r[1]['Experiment target'].split('-')[0]\n",
    "        else:\n",
    "            continue\n",
    "\n",
    "        \n",
    "        # Make Tuple\n",
    "        if output == output_type and file_format == file_type and target == assay_target:\n",
    "            bio_rep = bio_rep.replace(', ', '-',1)\n",
    "            meta_tups.append((target,url,file_acc,bio_rep.replace(', ', '-',1),status,biosample_type,'{}_{}_rep{}_{}_{}_{}'.format(biosample_term,age,bio_rep.replace(', ', '-',1),target,file_acc,exp_acc),'{}_{}'.format(biosample_term,age)))\n",
    "  \n",
    "    return meta_tups"
   ]
  },
  {
   "cell_type": "markdown",
   "metadata": {},
   "source": [
    "### Filter for ChIP-seq H3K27ac Alignments and Replicated Peaks"
   ]
  },
  {
   "cell_type": "code",
   "execution_count": 4,
   "metadata": {
    "collapsed": true
   },
   "outputs": [],
   "source": [
    "chip_align_tups = get_tupes(mouse_metadata_df, 'H3K27ac', 'alignments', 'bam')"
   ]
  },
  {
   "cell_type": "code",
   "execution_count": 5,
   "metadata": {
    "collapsed": true
   },
   "outputs": [],
   "source": [
    "chip_peaks_tups = get_tupes(mouse_metadata_df, 'H3K27ac', 'replicated peaks','bed narrowPeak')"
   ]
  },
  {
   "cell_type": "markdown",
   "metadata": {},
   "source": [
    "### Filter for RNA-seq Transcript quantifications"
   ]
  },
  {
   "cell_type": "code",
   "execution_count": 6,
   "metadata": {
    "collapsed": true
   },
   "outputs": [],
   "source": [
    "rna_quant_tups = get_tupes(mouse_metadata_df, 'RNA-seq', 'transcript quantifications', 'tsv')"
   ]
  },
  {
   "cell_type": "markdown",
   "metadata": {},
   "source": [
    "### Filter for Biosamples and Age that have RNA-seq and H3K27ac data"
   ]
  },
  {
   "cell_type": "code",
   "execution_count": 7,
   "metadata": {
    "collapsed": true
   },
   "outputs": [],
   "source": [
    "# Make Pandas Dataframes\n",
    "columns = ['Target', 'URL', 'File Accession', 'Rep', 'Status', 'Type', 'Experiment', 'Age_tissue']\n",
    "chip_align_df = pd.DataFrame(chip_align_tups, columns=columns)\n",
    "chip_peaks_df = pd.DataFrame(chip_peaks_tups, columns=columns)\n",
    "rna_quant_df = pd.DataFrame(rna_quant_tups, columns=columns)\n",
    "\n",
    "# Define Unique Sets\n",
    "unique_chip_align = set(chip_align_df['Age_tissue'])\n",
    "unique_chip_peaks = set(chip_peaks_df['Age_tissue'])\n",
    "unique_rna_quant = set(rna_quant_df['Age_tissue'])"
   ]
  },
  {
   "cell_type": "code",
   "execution_count": 8,
   "metadata": {},
   "outputs": [
    {
     "data": {
      "text/plain": [
       "88"
      ]
     },
     "execution_count": 8,
     "metadata": {},
     "output_type": "execute_result"
    }
   ],
   "source": [
    "# Length of ChIP-seq Alignments\n",
    "len(unique_chip_align)"
   ]
  },
  {
   "cell_type": "code",
   "execution_count": 9,
   "metadata": {},
   "outputs": [
    {
     "data": {
      "text/plain": [
       "88"
      ]
     },
     "execution_count": 9,
     "metadata": {},
     "output_type": "execute_result"
    }
   ],
   "source": [
    "# Length of ChIP-Peaks\n",
    "len(unique_chip_peaks)"
   ]
  },
  {
   "cell_type": "code",
   "execution_count": 10,
   "metadata": {},
   "outputs": [
    {
     "data": {
      "text/plain": [
       "140"
      ]
     },
     "execution_count": 10,
     "metadata": {},
     "output_type": "execute_result"
    }
   ],
   "source": [
    "# Length of RNA-seq Transcript Quantifications\n",
    "len(unique_rna_quant)"
   ]
  },
  {
   "cell_type": "code",
   "execution_count": 11,
   "metadata": {
    "collapsed": true
   },
   "outputs": [],
   "source": [
    "# Intersect ChIP-seq Alignments and Peaks\n",
    "unique_chip = set(unique_chip_peaks & unique_chip_align )"
   ]
  },
  {
   "cell_type": "code",
   "execution_count": 12,
   "metadata": {},
   "outputs": [
    {
     "data": {
      "text/plain": [
       "88"
      ]
     },
     "execution_count": 12,
     "metadata": {},
     "output_type": "execute_result"
    }
   ],
   "source": [
    "# Intersect RNA-seq and ChIP-seq\n",
    "unique_experiments = set(unique_chip & unique_rna_quant)\n",
    "len(unique_experiments)"
   ]
  },
  {
   "cell_type": "code",
   "execution_count": 14,
   "metadata": {
    "collapsed": true
   },
   "outputs": [],
   "source": [
    "# Filter for rows only matching Unique Experiments\n",
    "chip_align_filter_df = chip_align_df[chip_align_df['Age_tissue'].isin(unique_experiments)]\n",
    "chip_peaks_filter_df = chip_peaks_df[chip_peaks_df['Age_tissue'].isin(unique_experiments)]\n",
    "rna_quant_filter_df = rna_quant_df[rna_quant_df['Age_tissue'].isin(unique_experiments)]"
   ]
  },
  {
   "cell_type": "code",
   "execution_count": 15,
   "metadata": {
    "collapsed": true
   },
   "outputs": [],
   "source": [
    "# Show what data is available for each cell type \n",
    "def avail_data(experiments):\n",
    "    cell_types = set([i.split('_', 1)[0] for i in experiments])\n",
    "    age = sorted(set([i.split('_', 1)[1] for i in experiments]))\n",
    "    experiment_df = pd.DataFrame(0,index=cell_types,columns=age)\n",
    "\n",
    "    for i in experiments:\n",
    "        cell_type = i.split('_', 1)[0]\n",
    "        age = i.split('_', 1)[1] \n",
    "        experiment_df.loc[cell_type, age] = 1\n",
    "    \n",
    "    sb.set_context('paper',font_scale=1.8)\n",
    "    sb.heatmap(experiment_df, vmin=0, vmax=1, cmap=\"Blues\")\n",
    "    return experiment_df\n",
    "    "
   ]
  },
  {
   "cell_type": "code",
   "execution_count": 16,
   "metadata": {
    "collapsed": true
   },
   "outputs": [],
   "source": [
    "# Seperate by type \n",
    "experiments_tissue = chip_peaks_filter_df[chip_peaks_filter_df['Type'] == 'tissue']\n",
    "experiments_primarycell = chip_peaks_filter_df[chip_peaks_filter_df['Type'] == 'primary cell']\n",
    "experiments_stemcell = chip_peaks_filter_df[chip_peaks_filter_df['Type'] == 'stem cell']"
   ]
  },
  {
   "cell_type": "code",
   "execution_count": 17,
   "metadata": {},
   "outputs": [
    {
     "data": {
      "image/png": "[encoded data removed]",
      "text/plain": [
       "<matplotlib.figure.Figure at 0x124924518>"
      ]
     },
     "metadata": {},
     "output_type": "display_data"
    }
   ],
   "source": [
    "# Graph Tissues\n",
    "experiments_tissue_df = avail_data(set(experiments_tissue['Age_tissue']))"
   ]
  },
  {
   "cell_type": "code",
   "execution_count": 18,
   "metadata": {},
   "outputs": [
    {
     "data": {
      "image/png": "[encoded data removed]",
      "text/plain": [
       "<matplotlib.figure.Figure at 0x11a444358>"
      ]
     },
     "metadata": {},
     "output_type": "display_data"
    }
   ],
   "source": [
    "# Graph Primary Cells\n",
    "experiments_primarycell_df = avail_data(set(experiments_primarycell['Age_tissue']))"
   ]
  },
  {
   "cell_type": "code",
   "execution_count": 19,
   "metadata": {},
   "outputs": [
    {
     "data": {
      "image/png": "[encoded data removed]",
      "text/plain": [
       "<matplotlib.figure.Figure at 0x11a139048>"
      ]
     },
     "metadata": {},
     "output_type": "display_data"
    }
   ],
   "source": [
    "# Graph Stem Cells\n",
    "experiments_stemcell_df = avail_data(set(experiments_stemcell['Age_tissue']))"
   ]
  },
  {
   "cell_type": "code",
   "execution_count": null,
   "metadata": {
    "collapsed": true
   },
   "outputs": [],
   "source": []
  }
 ],
 "metadata": {
  "kernelspec": {
   "display_name": "Python 3",
   "language": "python",
   "name": "python3"
  },
  "language_info": {
   "codemirror_mode": {
    "name": "ipython",
    "version": 3
   },
   "file_extension": ".py",
   "mimetype": "text/x-python",
   "name": "python",
   "nbconvert_exporter": "python",
   "pygments_lexer": "ipython3",
   "version": "3.6.1"
  }
 },
 "nbformat": 4,
 "nbformat_minor": 2
}
